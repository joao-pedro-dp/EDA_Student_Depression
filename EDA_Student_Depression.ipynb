{
  "cells": [
    {
      "cell_type": "markdown",
      "metadata": {
        "id": "d8oSQwSnULZj"
      },
      "source": [
        "# Exploratory Data Analysis of Student Depression by Gender"
      ]
    },
    {
      "cell_type": "markdown",
      "metadata": {
        "id": "Oqn7ORCcklz_"
      },
      "source": [
        "### First look at data base"
      ]
    },
    {
      "cell_type": "markdown",
      "metadata": {
        "id": "KyQT5NYFoenv"
      },
      "source": [
        "DF student-depression on kaggle by Adil Shamim."
      ]
    },
    {
      "cell_type": "code",
      "execution_count": null,
      "metadata": {
        "colab": {
          "base_uri": "https://localhost:8080/",
          "height": 241
        },
        "id": "DH0ymru4Sy_-",
        "outputId": "e6efd49f-61a3-497f-afee-ec4f473733a7"
      },
      "outputs": [],
      "source": [
        "import kagglehub\n",
        "import pandas as pd\n",
        "import seaborn as sns\n",
        "import matplotlib.pyplot as plt\n",
        "import numpy as np\n",
        "\n",
        "path = kagglehub.dataset_download(\"adilshamim8/student-depression-dataset\")\n",
        "\n",
        "file_path = path + \"/student_depression_dataset.csv\"\n",
        "df = pd.read_csv(file_path, sep=\",\")\n",
        "\n",
        "df.head()"
      ]
    },
    {
      "cell_type": "code",
      "execution_count": null,
      "metadata": {
        "colab": {
          "base_uri": "https://localhost:8080/"
        },
        "id": "c41yg8vLdBbg",
        "outputId": "8af8ba29-c200-4d4b-df61-a00ca17ddf05"
      },
      "outputs": [],
      "source": [
        "df.info()"
      ]
    },
    {
      "cell_type": "code",
      "execution_count": null,
      "metadata": {
        "colab": {
          "base_uri": "https://localhost:8080/"
        },
        "id": "iSWiLC9Qo03o",
        "outputId": "daafe668-7375-4028-8901-dbea119a8cd3"
      },
      "outputs": [],
      "source": [
        "print(df['Gender'].value_counts())"
      ]
    },
    {
      "cell_type": "markdown",
      "metadata": {
        "id": "DpLb6bzBXbW6"
      },
      "source": [
        "Data quantity by gender."
      ]
    },
    {
      "cell_type": "code",
      "execution_count": null,
      "metadata": {
        "colab": {
          "base_uri": "https://localhost:8080/"
        },
        "id": "Uw0MDgZDo35S",
        "outputId": "26a45556-1346-4150-c8ee-da0d307fa5c7"
      },
      "outputs": [],
      "source": [
        "female_df = df[df['Gender'] == 'Female']\n",
        "male_df = df[df['Gender'] == 'Male'].sample(n=12354)\n",
        "equal_df = pd.concat([female_df,male_df])\n",
        "\n",
        "print(equal_df['Gender'].value_counts())"
      ]
    },
    {
      "cell_type": "markdown",
      "metadata": {
        "id": "jvhkkGL5pwXS"
      },
      "source": [
        "Equalizing the data quantity for more accurate exploration."
      ]
    },
    {
      "cell_type": "markdown",
      "metadata": {
        "id": "rlhIw4Whm6xI"
      },
      "source": [
        "### Since I don't have a specific question to answer with this DataFrame, I decided to analyze it column by column, focusing on the ones I find important and trying to extract as much information as possible to improve my analytical skills. I'll also consider connecting each column to the previous one to gain more context.\n",
        "### Graphs colors:\n",
        "1.   Green and Yellow: Graphs for General.\n",
        "2.   Red: Graphs for Females.\n",
        "1.   Blue: Graphs for Males.\n",
        "2.   Gray: Graphs connected to the previous column.\n",
        "\n",
        "\n"
      ]
    },
    {
      "cell_type": "markdown",
      "metadata": {
        "id": "hoyzJVhhrITy"
      },
      "source": [
        "## analyzing the df by colums"
      ]
    },
    {
      "cell_type": "markdown",
      "metadata": {
        "id": "9OMRM9q37uiW"
      },
      "source": [
        "### Academic Pressure"
      ]
    },
    {
      "cell_type": "code",
      "execution_count": null,
      "metadata": {
        "colab": {
          "base_uri": "https://localhost:8080/",
          "height": 304
        },
        "id": "G_9zaZbM2g8h",
        "outputId": "dce30f8a-16af-4eef-8f15-9b33ba1402fb"
      },
      "outputs": [],
      "source": [
        "equal_df['Academic Pressure'].value_counts()"
      ]
    },
    {
      "cell_type": "markdown",
      "metadata": {
        "id": "v0MCLx_Wf3-F"
      },
      "source": [
        "As we can see here, the value 0 corresponds to 8 people, so I think it's not necessary to include it in the graphs, I'll remove it only for visualization purposes."
      ]
    },
    {
      "cell_type": "code",
      "execution_count": null,
      "metadata": {
        "colab": {
          "base_uri": "https://localhost:8080/",
          "height": 497
        },
        "id": "XOAFLebV4hSH",
        "outputId": "f76e0447-d7ae-4da4-990f-c7e5225edd24"
      },
      "outputs": [],
      "source": [
        "no0 = equal_df.query(\"`Academic Pressure` > 0\")\n",
        "no0['Academic Pressure'].value_counts().sort_index().plot(kind='bar',title=\"Academic Pressure\",color='green')"
      ]
    },
    {
      "cell_type": "markdown",
      "metadata": {
        "id": "lQjTydtjhwKA"
      },
      "source": [
        "The largest concentration of people is between 3 and 5, which means that the majority feel a high level of academic pressure."
      ]
    },
    {
      "cell_type": "code",
      "execution_count": null,
      "metadata": {
        "colab": {
          "base_uri": "https://localhost:8080/",
          "height": 468
        },
        "id": "ShbarhSoUxqR",
        "outputId": "c89448cd-8faf-4b72-acdc-d5001777a36d"
      },
      "outputs": [],
      "source": [
        "general = sns.boxplot(equal_df['Academic Pressure'],color='green')\n",
        "general.set(title=\"Academic Pressure\")\n",
        "plt.show()\n",
        "print(\"\\nmean of the academic pressure:\",equal_df['Academic Pressure'].mean())"
      ]
    },
    {
      "cell_type": "markdown",
      "metadata": {
        "id": "jteDbfVzPYTn"
      },
      "source": [
        "The general graphical distribution of academic pressure shows that 50% of the total distribution lies between 2 and 4. While the mean is 3,15."
      ]
    },
    {
      "cell_type": "code",
      "execution_count": null,
      "metadata": {
        "colab": {
          "base_uri": "https://localhost:8080/"
        },
        "id": "vqUEv_6A5-Aj",
        "outputId": "708e273e-4071-4cd1-ac73-41279de62ff4"
      },
      "outputs": [],
      "source": [
        "print(equal_df.groupby('Gender')['Academic Pressure'].value_counts().sort_index(), end=\"\\n\\n\")"
      ]
    },
    {
      "cell_type": "markdown",
      "metadata": {
        "id": "FRZe53sKkJwa"
      },
      "source": [
        "Analyzing the numbers, it seems that females may feel more academic pressure than males. But let's take a look at the graph to confirm this. I'll also remove the value 0 again, as it's not necessary graphically."
      ]
    },
    {
      "cell_type": "code",
      "execution_count": null,
      "metadata": {
        "colab": {
          "base_uri": "https://localhost:8080/",
          "height": 541
        },
        "id": "YhHW6M2Ux6qn",
        "outputId": "a6d7f81a-f194-4457-d5b5-a2082505b407"
      },
      "outputs": [],
      "source": [
        "sns.histplot(data=equal_df[equal_df['Gender'] == 'Male'], y='Academic Pressure', color='Blue', label='Male', kde=True)\n",
        "sns.histplot(data=equal_df[equal_df['Gender'] == 'Female'], y='Academic Pressure', color='Red', label='Female', kde=True)\n",
        "plt.title(\"Academic Pressure by Gender\")\n",
        "plt.legend()\n",
        "plt.show()\n",
        "\n",
        "print(\"\\nMale mean of the academic pressure notes:\",no0[no0['Gender']== \"Male\"]['Academic Pressure'].mean())\n",
        "print(\"\\nFemale mean of the academic pressure notes:\",no0[no0['Gender']== \"Female\"]['Academic Pressure'].mean())"
      ]
    },
    {
      "cell_type": "markdown",
      "metadata": {
        "id": "nu7JyHHAQQd1"
      },
      "source": [
        "According to the previous analysis, it is evident that females feel more academic pressure than males."
      ]
    },
    {
      "cell_type": "markdown",
      "metadata": {
        "id": "GeaKWU7U72I8"
      },
      "source": [
        "### CGPA"
      ]
    },
    {
      "cell_type": "code",
      "execution_count": null,
      "metadata": {
        "colab": {
          "base_uri": "https://localhost:8080/"
        },
        "id": "O6Fu8AKeSveD",
        "outputId": "21f04dec-38fc-4651-cf70-53c5176e088b"
      },
      "outputs": [],
      "source": [
        "print(\"min value\",equal_df['CGPA'].min(),end='\\n\\n')\n",
        "print(\"max value\",equal_df['CGPA'].max(),end='\\n\\n')\n",
        "print(\"general CGPA mean\",equal_df['CGPA'].mean())"
      ]
    },
    {
      "cell_type": "markdown",
      "metadata": {
        "id": "aCJAaeEtpJfG"
      },
      "source": [
        "It seems that the values range from 0 to 10. Let's confirm that."
      ]
    },
    {
      "cell_type": "code",
      "execution_count": null,
      "metadata": {
        "colab": {
          "base_uri": "https://localhost:8080/"
        },
        "id": "-iP4Gk9BTeD4",
        "outputId": "94d858a8-bbbe-4706-a373-97b370116777"
      },
      "outputs": [],
      "source": [
        "general_cgpa_grap = sns.boxplot(equal_df['CGPA'], color='green')\n",
        "general_cgpa_grap.set(title=\"CGPA Column\")\n",
        "plt.show()"
      ]
    },
    {
      "cell_type": "markdown",
      "metadata": {
        "id": "0wC6OjiLmTgH"
      },
      "source": [
        "The graph only shows values between 5 and 10, but the data suggests the full range is from 0 to 10. A more specific visualization is required."
      ]
    },
    {
      "cell_type": "code",
      "execution_count": null,
      "metadata": {
        "colab": {
          "base_uri": "https://localhost:8080/"
        },
        "id": "UL3QD5djT7T0",
        "outputId": "09d0681a-c79d-4eba-acc6-74fd6f498d13"
      },
      "outputs": [],
      "source": [
        "print(equal_df['CGPA'] == 0)"
      ]
    },
    {
      "cell_type": "markdown",
      "metadata": {
        "id": "kTOKkoPVqcIR"
      },
      "source": [
        "I noticed it's showing up as a false boolean value, so I'll just remove the value 0 from the column to fix it."
      ]
    },
    {
      "cell_type": "code",
      "execution_count": null,
      "metadata": {
        "id": "7ZRE2mFzVObH"
      },
      "outputs": [],
      "source": [
        "equal_df = equal_df[equal_df['CGPA'] != 0]"
      ]
    },
    {
      "cell_type": "code",
      "execution_count": null,
      "metadata": {
        "colab": {
          "base_uri": "https://localhost:8080/"
        },
        "id": "5aKLEx21UZZd",
        "outputId": "ca5080ca-3d3f-493b-e01d-db204a06dd14"
      },
      "outputs": [],
      "source": [
        "print(equal_df['CGPA'].min())"
      ]
    },
    {
      "cell_type": "code",
      "execution_count": null,
      "metadata": {
        "colab": {
          "base_uri": "https://localhost:8080/"
        },
        "id": "x0T5ITaQnGqn",
        "outputId": "a9fbcd6e-645c-43fa-96fc-45d756590080"
      },
      "outputs": [],
      "source": [
        "print(equal_df['Gender'].value_counts())"
      ]
    },
    {
      "cell_type": "markdown",
      "metadata": {
        "id": "iRFWNINuna_c"
      },
      "source": [
        "As we can see here, it makes no difference in the number of people in the dataframe. Let's analyze it by gender now."
      ]
    },
    {
      "cell_type": "code",
      "execution_count": null,
      "metadata": {
        "id": "4pXmXuajXzDA"
      },
      "outputs": [],
      "source": [
        "gender_male_cgpa = equal_df[equal_df['Gender'] == 'Male']['CGPA']\n",
        "gender_female_cgpa = equal_df[equal_df['Gender'] == 'Female']['CGPA']"
      ]
    },
    {
      "cell_type": "code",
      "execution_count": null,
      "metadata": {
        "colab": {
          "base_uri": "https://localhost:8080/"
        },
        "id": "A9YfaXoAX3Zx",
        "outputId": "5781a42d-8c28-4dc8-d25a-b175f24c5d14"
      },
      "outputs": [],
      "source": [
        "fig, axes = plt.subplots(1, 2, figsize=(15, 5), sharey=True)\n",
        "\n",
        "sns.histplot(equal_df[equal_df['Gender'] == 'Male']['CGPA'],kde=True, ax=axes[0])\n",
        "axes[0].set_title(\"CGPA Male\")\n",
        "sns.histplot(equal_df[equal_df['Gender'] == 'Female']['CGPA'], color=\"red\",kde=True, ax=axes[1])\n",
        "axes[1].set_title(\"CGPA Female\")\n",
        "plt.tight_layout()\n",
        "plt.show()"
      ]
    },
    {
      "cell_type": "code",
      "execution_count": null,
      "metadata": {
        "colab": {
          "base_uri": "https://localhost:8080/"
        },
        "id": "716CVQlgWHfF",
        "outputId": "eea373ca-92f6-450b-db5e-50f486128cd6"
      },
      "outputs": [],
      "source": [
        "gender_female_cgpa.plot(kind='hist',title=\"CGPA by Gender\",color='red')\n",
        "gender_male_cgpa.plot(kind='hist',color='blue')"
      ]
    },
    {
      "cell_type": "code",
      "execution_count": null,
      "metadata": {
        "colab": {
          "base_uri": "https://localhost:8080/"
        },
        "id": "ou2dKMr-XUFc",
        "outputId": "b6e30545-7576-45f5-b30a-61c54d34b7e4"
      },
      "outputs": [],
      "source": [
        "print('Female:',end='\\n\\n')\n",
        "print('Mean of female score:',gender_female_cgpa.mean())\n",
        "print('Median of female score:',gender_female_cgpa.median())\n",
        "print('Standard deviation of female scores:',np.std(gender_female_cgpa))\n",
        "print('\\nMale:',end='\\n\\n')\n",
        "print('Mean of male score:',gender_male_cgpa.mean())\n",
        "print('Median of male score:',gender_male_cgpa.median())\n",
        "print('Standard deviation of male scores:',np.std(gender_male_cgpa))"
      ]
    },
    {
      "cell_type": "markdown",
      "metadata": {
        "id": "euGCzcPXn_7C"
      },
      "source": [
        "By analyzing the data, I can say that men have higher scores than women."
      ]
    },
    {
      "cell_type": "markdown",
      "metadata": {
        "id": "sQ_DNfZO2Xto"
      },
      "source": [
        "To connect with the previous column (Academic Pressure). Without any specific reason, I randomly chose to check how many people have both high academic pressure and a high CGPA, and those with low academic pressure and a high CGPA."
      ]
    },
    {
      "cell_type": "code",
      "execution_count": null,
      "metadata": {
        "colab": {
          "base_uri": "https://localhost:8080/"
        },
        "id": "lu0Xr6XkvcT8",
        "outputId": "1a4ad5f0-2d59-4922-9d37-6179b328254d"
      },
      "outputs": [],
      "source": [
        "fig, axes = plt.subplots(1, 2, figsize=(15, 5), sharey=True)\n",
        "\n",
        "high_pressure_notes = equal_df.query(\"`Academic Pressure` > 3 and `CGPA` > 8\")\n",
        "low_pressure_notes = equal_df.query(\"`Academic Pressure` < 3 and `CGPA` > 8\")\n",
        "\n",
        "low_pressure_notes['CGPA'].plot(kind='hist', color='gray', ax=axes[0])\n",
        "axes[0].set_title('Low Pressure & High CGPA')\n",
        "axes[0].grid(True, which='both', axis='both', linestyle='--', linewidth=0.5, alpha=0.7)\n",
        "high_pressure_notes['CGPA'].plot(kind='hist', color='gray', ax=axes[1])\n",
        "axes[1].set_title('High Pressure & High CGPA')\n",
        "axes[1].grid(True, which='both', axis='both', linestyle='--', linewidth=0.5, alpha=0.7)\n",
        "\n",
        "plt.tight_layout()\n",
        "plt.show()\n",
        "\n",
        "print('\\nNumber of people who have low Academic Pressure and a high CGPA:', low_pressure_notes['CGPA'].count())\n",
        "print('\\nNumber of people who have high Academic Pressure and a high CGPA:', high_pressure_notes['CGPA'].count())"
      ]
    },
    {
      "cell_type": "markdown",
      "metadata": {
        "id": "yTiQmWS43cy3"
      },
      "source": [
        "We can see here that  there are more people who have high academic pressure and a high CGPA."
      ]
    },
    {
      "cell_type": "markdown",
      "metadata": {
        "id": "HW0rdTFbbtax"
      },
      "source": [
        "### Study Satisfaction"
      ]
    },
    {
      "cell_type": "code",
      "execution_count": null,
      "metadata": {
        "colab": {
          "base_uri": "https://localhost:8080/"
        },
        "id": "KLDffFOzb8Wl",
        "outputId": "c1f9abec-6f60-4963-fdb7-60ebd0fb7e63"
      },
      "outputs": [],
      "source": [
        "print(equal_df['Study Satisfaction'].value_counts().sort_index())"
      ]
    },
    {
      "cell_type": "markdown",
      "metadata": {
        "id": "E7UhaIK56LNt"
      },
      "source": [
        "The value 0 will be unnecessary in the graphs again, so once more, let's remove it."
      ]
    },
    {
      "cell_type": "code",
      "execution_count": null,
      "metadata": {
        "id": "-4iXL_I-mp8p"
      },
      "outputs": [],
      "source": [
        "no0_study = equal_df[equal_df['Study Satisfaction'] != 0]"
      ]
    },
    {
      "cell_type": "code",
      "execution_count": null,
      "metadata": {
        "id": "rTkAnm2haMKp"
      },
      "outputs": [],
      "source": [
        "gender_male_sati = equal_df[equal_df['Gender'] == 'Male']['Study Satisfaction']\n",
        "gender_female_sati = equal_df[equal_df['Gender'] == 'Female']['Study Satisfaction']"
      ]
    },
    {
      "cell_type": "code",
      "execution_count": null,
      "metadata": {
        "colab": {
          "base_uri": "https://localhost:8080/"
        },
        "id": "b3Io3koFcE_4",
        "outputId": "176a7206-9135-4e01-cffe-8d4bb1828348"
      },
      "outputs": [],
      "source": [
        "print(\"Mean of general study satisfaction column: {:.2f}\".format(equal_df['Study Satisfaction'].mean()))\n",
        "print(\"Mean of female study satisfaction: {:.2f}\".format(gender_female_sati.mean()))\n",
        "print(\"Mean of male study satisfaction: {:.2f}\".format(gender_male_sati.mean()))"
      ]
    },
    {
      "cell_type": "code",
      "execution_count": null,
      "metadata": {
        "colab": {
          "base_uri": "https://localhost:8080/",
          "height": 472
        },
        "id": "5tgqJk6scE9P",
        "outputId": "8e35b492-c338-4b5f-831f-ed195bac5e0f"
      },
      "outputs": [],
      "source": [
        "geral_study_grap = sns.histplot(no0_study['Study Satisfaction'], color='green')\n",
        "geral_study_grap.set(title=\"General Study Satisfaction\")\n",
        "plt.show()"
      ]
    },
    {
      "cell_type": "code",
      "execution_count": null,
      "metadata": {
        "colab": {
          "base_uri": "https://localhost:8080/",
          "height": 433
        },
        "id": "LQCTTJS00TxD",
        "outputId": "7dc6293d-4115-4955-a7ba-8d1d1da55cb4"
      },
      "outputs": [],
      "source": [
        "geral_study_grap1 = sns.boxplot(equal_df['Study Satisfaction'], color='green')\n",
        "geral_study_grap1.set(title=\"General Study Satisfaction\")\n",
        "plt.show()"
      ]
    },
    {
      "cell_type": "markdown",
      "metadata": {
        "id": "P-iVS4V07hs5"
      },
      "source": [
        "The graphs show that the scores follow a medium-to-high trend."
      ]
    },
    {
      "cell_type": "markdown",
      "metadata": {
        "id": "JqXt6kTyyNBz"
      },
      "source": [
        "Let's look this column by gender now."
      ]
    },
    {
      "cell_type": "code",
      "execution_count": null,
      "metadata": {
        "colab": {
          "base_uri": "https://localhost:8080/"
        },
        "id": "u2UQBTlKn2-k",
        "outputId": "dc6ecac9-db07-4698-ba1b-b68193526c41"
      },
      "outputs": [],
      "source": [
        "print(\"Distriution of man's score of\",no0_study.query(\"Gender == 'Male'\")['Study Satisfaction'].value_counts().sort_index(), end=\"\\n\")\n",
        "print(\"\\nDistriution of woman's score of\",no0_study.query(\"Gender == 'Female'\")['Study Satisfaction'].value_counts().sort_index())"
      ]
    },
    {
      "cell_type": "code",
      "execution_count": null,
      "metadata": {
        "colab": {
          "base_uri": "https://localhost:8080/"
        },
        "id": "NL3KAobJcEyn",
        "outputId": "b1e18880-682a-401e-9daf-1b5afc870cde"
      },
      "outputs": [],
      "source": [
        "print(\"Standard deviation of female's\",np.std(equal_df.query(\"Gender == 'Female'\")['Study Satisfaction']))\n",
        "print(\"Standard deviation of male's\",np.std(equal_df.query(\"Gender == 'Male'\")['Study Satisfaction']))"
      ]
    },
    {
      "cell_type": "code",
      "execution_count": null,
      "metadata": {
        "colab": {
          "base_uri": "https://localhost:8080/",
          "height": 507
        },
        "id": "kRnRwG4eo1r5",
        "outputId": "56f20897-2742-43c2-adae-5453396333ca"
      },
      "outputs": [],
      "source": [
        "fig, axes = plt.subplots(1, 2, figsize=(15, 5), sharey=True)\n",
        "female_study_grap = sns.histplot(no0_study.query(\"Gender == 'Female'\")['Study Satisfaction'],color='red',kde=True, ax=axes[0])\n",
        "axes[0].set(title=\"Female Study Satisfaction \")\n",
        "axes[0].grid(True, which='both', axis='both', linestyle='--', linewidth=0.5, alpha=0.7)\n",
        "male_study_grap = sns.histplot(no0_study.query(\"Gender == 'Male'\")['Study Satisfaction'],color='blue',kde=True, ax=axes[1])\n",
        "axes[1].set(title=\"Male Study Satisfaction \")\n",
        "axes[1].grid(True, which='both', axis='both', linestyle='--', linewidth=0.5, alpha=0.7)\n",
        "plt.tight_layout()\n",
        "plt.show()"
      ]
    },
    {
      "cell_type": "markdown",
      "metadata": {
        "id": "IHO9Vy6N03qm"
      },
      "source": [
        "Both graphs has the same pattern. The predominant values are between 2 and 4."
      ]
    },
    {
      "cell_type": "code",
      "execution_count": null,
      "metadata": {
        "colab": {
          "base_uri": "https://localhost:8080/",
          "height": 452
        },
        "id": "H4KHMnlS3irq",
        "outputId": "8b582ee7-610b-4a17-e7ef-e6c2cbefc67d"
      },
      "outputs": [],
      "source": [
        "mans_study_satisfaction = (no0_study.query(\"Gender == 'Male'\")['Study Satisfaction'].value_counts().sort_index().to_frame(name='count'))\n",
        "womens_study_satisfaction = (no0_study.query(\"Gender == 'Female'\")['Study Satisfaction'].value_counts().sort_index().to_frame(name='count'))\n",
        "\n",
        "plt.plot(mans_study_satisfaction.index, mans_study_satisfaction['count'], label=\"Male\", marker='o')\n",
        "plt.plot(womens_study_satisfaction.index, womens_study_satisfaction['count'], label=\"Female\", marker='o',color='red')\n",
        "plt.title(\"Study Satisfaction by Gender\")\n",
        "plt.legend()\n",
        "plt.grid(True, which='both', axis='both', linestyle='--', linewidth=0.5, alpha=0.7)\n",
        "plt.show()"
      ]
    },
    {
      "cell_type": "markdown",
      "metadata": {
        "id": "FBu44nq91dIv"
      },
      "source": [
        "To me, women are clearly stay more satisfied with their studies than man."
      ]
    },
    {
      "cell_type": "code",
      "execution_count": null,
      "metadata": {
        "colab": {
          "base_uri": "https://localhost:8080/"
        },
        "id": "QVcUEpVvybqW",
        "outputId": "b7fc58fe-7a80-413f-9f41-3c0c8b6294b5"
      },
      "outputs": [],
      "source": [
        "count_male_study = no0_study.query(\"Gender == 'Male'\")['Study Satisfaction'].value_counts()\n",
        "count_male_study = count_male_study.to_frame()\n",
        "print(\"The sum of male scores: \",count_male_study['count'].sum())\n",
        "\n",
        "count_female_study = no0_study.query(\"Gender == 'Female'\")['Study Satisfaction'].value_counts()\n",
        "count_female_study = count_female_study.to_frame()\n",
        "print(\"The sum of female scores: \",count_female_study['count'].sum())"
      ]
    },
    {
      "cell_type": "markdown",
      "metadata": {
        "id": "7Vd0NkpG7yfX"
      },
      "source": [
        "What if we want the scores those who have high study satisfaction?"
      ]
    },
    {
      "cell_type": "code",
      "execution_count": null,
      "metadata": {
        "colab": {
          "base_uri": "https://localhost:8080/",
          "height": 472
        },
        "id": "zTnNrcL99EDp",
        "outputId": "7e4db758-1f59-43d0-b34c-0df0f10f0cb0"
      },
      "outputs": [],
      "source": [
        "sns.boxplot(data=no0_study, x='Study Satisfaction', y='CGPA', color='gray')\n",
        "plt.title(\"General Boxplot of CGPA by Study Satisfaction\")\n",
        "plt.xlabel(\"Study Satisfaction\")\n",
        "plt.ylabel(\"CGPA\")\n",
        "plt.show()"
      ]
    },
    {
      "cell_type": "code",
      "execution_count": null,
      "metadata": {
        "colab": {
          "base_uri": "https://localhost:8080/"
        },
        "id": "vx6Cd0UwcFuL",
        "outputId": "8dcc0986-b4bc-4740-d63a-85942e7fa35c"
      },
      "outputs": [],
      "source": [
        "high_satis_cgpa = equal_df[equal_df['Study Satisfaction'] >= 4]\n",
        "qnt_gender_male_5 = high_satis_cgpa.query(\"Gender == 'Male'\")['CGPA'].count()\n",
        "print(\"Quantity of men who have study satisfaction >= 4: \",qnt_gender_male_5)\n",
        "qnt_gender_female_5 = high_satis_cgpa.query(\"Gender == 'Female'\")['CGPA'].count()\n",
        "print(\"Quantity of woman who have study satisfaction >= 4: \",qnt_gender_female_5)\n",
        "low_satis_cgpa = equal_df[equal_df['Study Satisfaction'] <= 2]\n",
        "qnt_gender_male_0 = low_satis_cgpa.query(\"Gender == 'Male'\")['CGPA'].count()\n",
        "print(\"Quantity of men who have study satisfaction <= 2: \",qnt_gender_male_0)\n",
        "qnt_gender_female_0 = low_satis_cgpa.query(\"Gender == 'Female'\")['CGPA'].count()\n",
        "print(\"Quantity of woman who have study satisfaction <= 2: \",qnt_gender_female_0)"
      ]
    },
    {
      "cell_type": "code",
      "execution_count": null,
      "metadata": {
        "colab": {
          "base_uri": "https://localhost:8080/",
          "height": 507
        },
        "id": "eu2gzp9FcFsA",
        "outputId": "c9f4622b-ee6b-48ad-e504-21471dec2f68"
      },
      "outputs": [],
      "source": [
        "fig, axes = plt.subplots(1, 2, figsize=(15, 5), sharey=True)\n",
        "\n",
        "equal_df.query(\"Gender == 'Male'\").query(\"`Study Satisfaction` >= 4\")['CGPA'].plot(kind='hist',color='blue', ax=axes[0])\n",
        "equal_df.query(\"Gender == 'Female'\").query(\"`Study Satisfaction` >= 4\")['CGPA'].plot(kind='hist',color='red', ax=axes[0])\n",
        "axes[0].set(title=\"CGPA Distribution - High Study Satisfaction (≥ 4)\",xlabel=\"CGPA\",ylabel=\"Frequency\")\n",
        "axes[0].grid(True, which='both', axis='both', linestyle='--', linewidth=0.5, alpha=0.7)\n",
        "equal_df.query(\"Gender == 'Male'\").query(\"`Study Satisfaction` <= 2\")['CGPA'].plot(kind='hist',color='blue', ax=axes[1])\n",
        "equal_df.query(\"Gender == 'Female'\").query(\"`Study Satisfaction` <= 2\")['CGPA'].plot(kind='hist',color='red', ax=axes[1])\n",
        "axes[1].set(title=\"CGPA Distribution - High Study Satisfaction (<= 2)\",xlabel=\"CGPA\",ylabel=\"Frequency\")\n",
        "axes[1].grid(True, which='both', axis='both', linestyle='--', linewidth=0.5, alpha=0.7)\n",
        "plt.tight_layout()\n",
        "plt.show()"
      ]
    },
    {
      "cell_type": "markdown",
      "metadata": {
        "id": "9QibnUrF8ajV"
      },
      "source": [
        "graph showing distrubution of man and woman by score"
      ]
    },
    {
      "cell_type": "code",
      "execution_count": null,
      "metadata": {
        "colab": {
          "base_uri": "https://localhost:8080/",
          "height": 541
        },
        "id": "EM0Y1cX2cFpt",
        "outputId": "26a398d8-3a90-4f90-a966-f91793dd3d44"
      },
      "outputs": [],
      "source": [
        "graph_high_satis = high_satis_cgpa[high_satis_cgpa['CGPA'] >= 8]\n",
        "graph_high_satis['CGPA'].plot(kind='hist', bins=10, color='gray', alpha=0.7)\n",
        "plt.title('Distribuição de CGPA (≥ 8) entre estudantes com alta satisfação (≥ 4)')\n",
        "plt.xlabel('CGPA')\n",
        "plt.ylabel('Frequência')\n",
        "plt.grid(True)\n",
        "plt.show()\n",
        "\n",
        "high_satis_cgpa_10 = high_satis_cgpa[high_satis_cgpa['CGPA'] >= 8]\n",
        "woman_cgpa_10 = high_satis_cgpa_10.query(\"Gender == 'Female'\")['CGPA'].count()\n",
        "man_cgpa_10 = high_satis_cgpa_10.query(\"Gender == 'Male'\")['CGPA'].count()\n",
        "print(\"\\nQuantity of woman who have study satisfaction ≥ 4 and CGPA ≥ 8:\",woman_cgpa_10)\n",
        "print(\"\\nQuantity of man who have study satisfaction ≥ 4 and CGPA ≥ 8:\",man_cgpa_10)"
      ]
    },
    {
      "cell_type": "markdown",
      "metadata": {
        "id": "XVWqNsmbCEn5"
      },
      "source": [
        "As expected, female students report higher levels of study satisfaction, while male students tend to have slightly higher CGPA scores. However, the differences between the two groups are relatively small."
      ]
    },
    {
      "cell_type": "markdown",
      "metadata": {
        "id": "VgqL_ogh1CS8"
      },
      "source": [
        "### Sleep Duration"
      ]
    },
    {
      "cell_type": "code",
      "execution_count": null,
      "metadata": {
        "colab": {
          "base_uri": "https://localhost:8080/"
        },
        "id": "MdNer3nWXoFU",
        "outputId": "82f3406b-c736-4a86-b259-d90639db9b4c"
      },
      "outputs": [],
      "source": [
        "print(equal_df['Sleep Duration'].value_counts())"
      ]
    },
    {
      "cell_type": "markdown",
      "metadata": {
        "id": "KGkY9hR95Peg"
      },
      "source": [
        "I think the 'others' category won't fit well in the graph, so I'll remove it for better visualization."
      ]
    },
    {
      "cell_type": "code",
      "execution_count": null,
      "metadata": {
        "colab": {
          "base_uri": "https://localhost:8080/"
        },
        "id": "xflNyAQEZCsV",
        "outputId": "c78e4a0f-98ba-4ace-a743-8b42baeb7cd0"
      },
      "outputs": [],
      "source": [
        "noothers = equal_df[equal_df['Sleep Duration'] != 'Others']\n",
        "print(noothers['Sleep Duration'].value_counts())"
      ]
    },
    {
      "cell_type": "code",
      "execution_count": null,
      "metadata": {
        "colab": {
          "base_uri": "https://localhost:8080/"
        },
        "id": "sDx4tvT0SsRh",
        "outputId": "61897cd4-3c74-4cbb-f7d2-ba2e0f71f311"
      },
      "outputs": [],
      "source": [
        "sns.barplot(noothers['Sleep Duration'].value_counts(),color='green')\n",
        "plt.title(\"General analyzing of the Sleep Duration column\")\n",
        "plt.show()"
      ]
    },
    {
      "cell_type": "markdown",
      "metadata": {
        "id": "6tZzCuDxE93P"
      },
      "source": [
        "It's ok, but how many people sleep well and badly?"
      ]
    },
    {
      "cell_type": "code",
      "execution_count": null,
      "metadata": {
        "colab": {
          "base_uri": "https://localhost:8080/"
        },
        "id": "_ik2AEWVE4cP",
        "outputId": "173adb89-35eb-4f68-8f55-3b1f1b0c609f"
      },
      "outputs": [],
      "source": [
        "only_sleep = equal_df['Sleep Duration']\n",
        "good_sleep = only_sleep[(only_sleep ==\"'More than 8 hours'\") | (only_sleep ==\"'7-8 hours'\")].count()\n",
        "bad_sleep = only_sleep[(only_sleep ==\"'Less than 5 hours'\") | (only_sleep ==\"'5-6 hours'\")].count()\n",
        "\n",
        "print(\"Number of people who sleep well:\",good_sleep)\n",
        "print(\"\\nNumber of people who sleep badly:\",bad_sleep,end='\\n\\n')\n",
        "\n",
        "good_bad_sleep = pd.Series({'Good Sleep': good_sleep, 'Bad Sleep':bad_sleep})\n",
        "colors=['green','yellow']\n",
        "good_bad_sleep.plot(kind='pie',title=\"Good vs Bad Sleep\",autopct='%1.1f%%',colors=colors)\n",
        "plt.show()"
      ]
    },
    {
      "cell_type": "markdown",
      "metadata": {
        "id": "Yk60opOQFX22"
      },
      "source": [
        "The group that has the most members is the one of people who sleep badly and I think I fit into it. Let's continue analyzing by gender."
      ]
    },
    {
      "cell_type": "code",
      "execution_count": null,
      "metadata": {
        "colab": {
          "base_uri": "https://localhost:8080/"
        },
        "id": "ql0GSuSSSsOp",
        "outputId": "d9f8e083-9ffb-4c28-c95a-f99b4b1d9b77"
      },
      "outputs": [],
      "source": [
        "print(\"Distribution of female \",equal_df.query(\"Gender=='Female'\")['Sleep Duration'].value_counts(),end='\\n\\n')\n",
        "print(\"Distribution of male\",equal_df.query(\"Gender=='Male'\")['Sleep Duration'].value_counts(),end='\\n\\n')\n",
        "\n",
        "man_sleep = noothers[noothers['Gender'] == 'Male']['Sleep Duration'].value_counts().to_frame().reset_index().sort_index(ascending=True)\n",
        "woman_sleep = noothers[noothers['Gender'] == 'Female']['Sleep Duration'].value_counts().to_frame().reset_index().sort_index(ascending=True)"
      ]
    },
    {
      "cell_type": "code",
      "execution_count": null,
      "metadata": {
        "colab": {
          "base_uri": "https://localhost:8080/"
        },
        "id": "jPQEfgB9Gxup",
        "outputId": "76a559e0-1b32-4527-b87b-715a6ab3e28e"
      },
      "outputs": [],
      "source": [
        "plt.plot(man_sleep['Sleep Duration'], man_sleep['count'], label=\"Male\", marker='o')\n",
        "plt.plot(woman_sleep['Sleep Duration'], woman_sleep['count'], label=\"Female\", marker='o', color='red')\n",
        "plt.title(\"Sleep Duration by Gender\")\n",
        "plt.legend()\n",
        "plt.show()"
      ]
    },
    {
      "cell_type": "code",
      "execution_count": null,
      "metadata": {
        "colab": {
          "base_uri": "https://localhost:8080/"
        },
        "id": "jQ1TgJhGMiZz",
        "outputId": "ee556f08-877d-43f2-e80c-675c90b15492"
      },
      "outputs": [],
      "source": [
        "female_sleep = equal_df.query(\"Gender=='Female'\")['Sleep Duration'].value_counts()\n",
        "male_sleep = equal_df.query(\"Gender=='Male'\")['Sleep Duration'].value_counts()\n",
        "\n",
        "good_sleep_female = female_sleep.loc[[\"'7-8 hours'\", \"'More than 8 hours'\"]].sum()\n",
        "print(\"Number of females who sleep well('7-8 hours' + 'More than 8 hours'):\",good_sleep_female)\n",
        "good_sleep_male = male_sleep.loc[[\"'7-8 hours'\", \"'More than 8 hours'\"]].sum()\n",
        "print(\"Number of males who sleep well('7-8 hours' + 'More than 8 hours'):\",good_sleep_male)\n",
        "\n",
        "bad_sleep_female = female_sleep.loc[[\"'5-6 hours'\", \"'Less than 5 hours'\"]].sum()\n",
        "print(\"Number of females who sleep badly('5-6 hours'\", \"'Less than 5 hours'):\",bad_sleep_female)\n",
        "bad_sleep_male = male_sleep.loc[[\"'5-6 hours'\", \"'Less than 5 hours'\"]].sum()\n",
        "print(\"Number of males who sleep badly('5-6 hours'\", \"'Less than 5 hours'):\",bad_sleep_male)"
      ]
    },
    {
      "cell_type": "markdown",
      "metadata": {
        "id": "gVjXJeUTsj2w"
      },
      "source": [
        "The analysis suggests that men and woman sleep sleep a similar amount of hours."
      ]
    },
    {
      "cell_type": "markdown",
      "metadata": {
        "id": "91uNTRMwaQXS"
      },
      "source": [
        "Now, in the connection on previous column, I want to see how sleep is related to study satisfaction."
      ]
    },
    {
      "cell_type": "code",
      "execution_count": null,
      "metadata": {
        "colab": {
          "base_uri": "https://localhost:8080/"
        },
        "id": "BnZ_yiwjo5K-",
        "outputId": "b7deca63-55b2-40c0-8377-225a49cb02e3"
      },
      "outputs": [],
      "source": [
        "sleep_satis = noothers.groupby(\"Sleep Duration\")['Study Satisfaction'].value_counts().sort_index()\n",
        "print(sleep_satis)\n",
        "\n",
        "Less_than_5 = sleep_satis.xs(\"'Less than 5 hours'\", level=\"Sleep Duration\")\n",
        "hours_5_6 = sleep_satis.xs(\"'5-6 hours'\", level=\"Sleep Duration\")\n",
        "hours_7_8 = sleep_satis.xs(\"'7-8 hours'\", level=\"Sleep Duration\")\n",
        "more_than_8 = sleep_satis.xs(\"'More than 8 hours'\", level=\"Sleep Duration\")"
      ]
    },
    {
      "cell_type": "code",
      "execution_count": null,
      "metadata": {
        "colab": {
          "base_uri": "https://localhost:8080/"
        },
        "id": "g_1lDt5prwKW",
        "outputId": "f3558d60-1acf-4efd-a022-9da99d34a610"
      },
      "outputs": [],
      "source": [
        "Less_than_5.plot(kind='line', title=\"Sleep Duration Low Satisfaction\", label = \"Less than 5 hours\", marker='o')\n",
        "hours_5_6.plot(kind='line', title=\"Sleep Duration Medium Satisfaction\", label = \"5-6 hours\", marker='o' )\n",
        "hours_7_8.plot(kind='line', title=\"Sleep Duration High Satisfaction\", label = \"7-8 hours\", marker='o' )\n",
        "more_than_8.plot(kind='line', title=\"Sleep Duration Very High Satisfaction\", label = \"More than 8 hours\", marker='o' )\n",
        "plt.title(\"Study Satisfaction vs Sleep Duration\")\n",
        "plt.legend()\n",
        "plt.tight_layout(rect=[0, 0, 2, 1])\n",
        "plt.show()"
      ]
    },
    {
      "cell_type": "code",
      "execution_count": null,
      "metadata": {
        "colab": {
          "base_uri": "https://localhost:8080/"
        },
        "id": "hz1mooLfeU2c",
        "outputId": "692d8f18-9dd1-4716-a527-2e39c8143147"
      },
      "outputs": [],
      "source": [
        "fig, axs = plt.subplots(1,4, figsize=(16, 8))\n",
        "\n",
        "Less_than_5.plot(kind='pie', ax=axs[0], title=\"Less than 5 hours\", autopct='%1.1f%%',legend=False)\n",
        "hours_5_6.plot(kind='pie', ax=axs[1], title=\"5-6 hours\", autopct='%1.1f%%',legend=False)\n",
        "hours_7_8.plot(kind='pie', ax=axs[2], title=\"7-8 hours\", autopct='%1.1f%%',legend=False)\n",
        "more_than_8.plot(kind='pie', ax=axs[3], title=\"More than 8 hours\", autopct='%1.1f%%',legend=False)\n",
        "fig.suptitle(\"Study Satisfaction vs Sleep Duration\", fontsize=16)\n",
        "plt.tight_layout(rect=[0, 0, 1, 1.3])\n",
        "plt.show()"
      ]
    },
    {
      "cell_type": "markdown",
      "metadata": {
        "id": "i_pQDcHhkIi8"
      },
      "source": [
        "The graphs are almost the same, it suggests that study satisfaction might not have a significant impact on sleep duration."
      ]
    },
    {
      "cell_type": "markdown",
      "metadata": {
        "id": "G1mxnvZqaOB2"
      },
      "source": [
        "### Dietary Habits"
      ]
    },
    {
      "cell_type": "code",
      "execution_count": null,
      "metadata": {
        "colab": {
          "base_uri": "https://localhost:8080/"
        },
        "id": "Wvk4mKbrufHq",
        "outputId": "3658d0f6-fe89-4884-d6e0-5e5b9f03fead"
      },
      "outputs": [],
      "source": [
        "print(equal_df['Dietary Habits'].unique())\n",
        "print(equal_df['Dietary Habits'].value_counts())"
      ]
    },
    {
      "cell_type": "markdown",
      "metadata": {
        "id": "9b_YDo7DDqIV"
      },
      "source": [
        "the 'others' category won't fit well in the graph AGAIN, so I'll remove it for better visualization."
      ]
    },
    {
      "cell_type": "code",
      "execution_count": null,
      "metadata": {
        "colab": {
          "base_uri": "https://localhost:8080/"
        },
        "id": "CgPhQttGvwHQ",
        "outputId": "6a366a43-4f34-4410-f425-3621084db103"
      },
      "outputs": [],
      "source": [
        "equal_df = equal_df[equal_df['Dietary Habits'] != 'Others']\n",
        "print(equal_df['Dietary Habits'].unique())"
      ]
    },
    {
      "cell_type": "code",
      "execution_count": null,
      "metadata": {
        "colab": {
          "base_uri": "https://localhost:8080/"
        },
        "id": "UlK870siX-ir",
        "outputId": "f51deafd-e8a7-4fe0-ed0e-957c08449d67"
      },
      "outputs": [],
      "source": [
        "equal_df['Dietary Habits'].value_counts().plot(kind='bar',title=\"General Dietary Habits\",color='green')"
      ]
    },
    {
      "cell_type": "markdown",
      "metadata": {
        "id": "ZbAlvs4vD4Uv"
      },
      "source": [
        "I can say with confidence that maintaining a healthy diet is difficult."
      ]
    },
    {
      "cell_type": "markdown",
      "metadata": {
        "id": "X4HYx3-2Eg3V"
      },
      "source": [
        "let's see if the df by gender says the same thing"
      ]
    },
    {
      "cell_type": "code",
      "execution_count": null,
      "metadata": {
        "colab": {
          "base_uri": "https://localhost:8080/"
        },
        "id": "h1PsCwlYXLAO",
        "outputId": "b78d5901-d385-4422-a463-00f768197198"
      },
      "outputs": [],
      "source": [
        "diet_male = equal_df[equal_df['Gender'] == 'Male']['Dietary Habits'].value_counts()\n",
        "diet_female = equal_df[equal_df['Gender'] == 'Female']['Dietary Habits'].value_counts()\n",
        "\n",
        "print(\"Dietary habits:\",diet_male, end='\\n\\n')\n",
        "print(\"Dietary habits:\",diet_female)"
      ]
    },
    {
      "cell_type": "code",
      "execution_count": null,
      "metadata": {
        "colab": {
          "base_uri": "https://localhost:8080/"
        },
        "id": "pCtsfplbSr92",
        "outputId": "b4f68a9f-f503-4c75-bf1a-cebebeda6a2f"
      },
      "outputs": [],
      "source": [
        "diet_male.plot(kind='line',title=\"Diet Male vs Female\",color='blue', label=\"Male\", marker='o')\n",
        "diet_female.plot(kind='line',color='red', label=\"Female\", marker='o')"
      ]
    },
    {
      "cell_type": "markdown",
      "metadata": {
        "id": "FkBOytoeHyDv"
      },
      "source": [
        "Based on the data, women irrefutably have a healthier diet than men."
      ]
    },
    {
      "cell_type": "markdown",
      "metadata": {
        "id": "Zc6gZFO1FBrW"
      },
      "source": [
        "As part of connecting with the previous columns, why not look at the dietary habits of people who sleep more than 8 hours and less than 5 hours?"
      ]
    },
    {
      "cell_type": "code",
      "execution_count": null,
      "metadata": {
        "colab": {
          "base_uri": "https://localhost:8080/"
        },
        "id": "K82MQWB-CFIG",
        "outputId": "e46114d0-cf8e-4575-c92c-5008ceb25c89"
      },
      "outputs": [],
      "source": [
        "fig, axes = plt.subplots(1, 2, figsize=(15, 5), sharey=True)\n",
        "\n",
        "diet_sleep_more_8 = equal_df[equal_df['Sleep Duration'] == \"'More than 8 hours'\"]['Dietary Habits'].value_counts()\n",
        "diet_sleep_more_8.plot(kind='pie',title=\"Dietary habits of people who sleep more than 8 hours\",autopct='%1.1f%%', ax=axes[0])\n",
        "\n",
        "diet_sleep_less_5 = equal_df[equal_df['Sleep Duration'] == \"'Less than 5 hours'\"]['Dietary Habits'].value_counts()\n",
        "diet_sleep_less_5.plot(kind='pie',title=\"Dietary habits of people who sleep less than 5 hours\",autopct='%1.1f%%', ax=axes[1])\n",
        "plt.tight_layout()\n",
        "plt.show()"
      ]
    },
    {
      "cell_type": "code",
      "execution_count": null,
      "metadata": {
        "colab": {
          "base_uri": "https://localhost:8080/"
        },
        "id": "NciKdgCYEBIL",
        "outputId": "6fddef04-ed3c-4cbc-8688-17da7121a63b"
      },
      "outputs": [],
      "source": [
        "diet_sleep_more_8 = equal_df[equal_df['Sleep Duration'] == \"'More than 8 hours'\"]['Dietary Habits'].value_counts().plot(kind='line',color='blue', label=\"more than 8 hours\", marker='o')\n",
        "diet_sleep_less_5 = equal_df[equal_df['Sleep Duration'] == \"'Less than 5 hours'\"]['Dietary Habits'].value_counts().plot(kind='line',color='red', label=\"less than 5\", marker='o')\n",
        "plt.legend()\n",
        "plt.title(\"Dietary habits of people who sleep more than 8 hours vs less than 5 hours\")\n",
        "plt.show()"
      ]
    },
    {
      "cell_type": "markdown",
      "metadata": {
        "id": "XNF6pXUVIVqB"
      },
      "source": [
        "A lot more people sleep less than 5 hours, but despite the difference in numbers, the pie charts show a similar pattern."
      ]
    },
    {
      "cell_type": "markdown",
      "metadata": {
        "id": "YiTRF27CYvnE"
      },
      "source": [
        "### Suicidal Thoughts, Depression and Family History of Mental Illness"
      ]
    },
    {
      "cell_type": "markdown",
      "metadata": {
        "id": "hCDj9DNXMqmH"
      },
      "source": [
        "I decided to analyze these columns together because they are boolean values."
      ]
    },
    {
      "cell_type": "code",
      "execution_count": null,
      "metadata": {
        "colab": {
          "base_uri": "https://localhost:8080/",
          "height": 300
        },
        "id": "kSD1heskCtdG",
        "outputId": "f48cfa12-c0d8-4a72-e17a-f2ebef7c22fe"
      },
      "outputs": [],
      "source": [
        "bool_columns = equal_df[['Have you ever had suicidal thoughts ?', 'Depression', 'Family History of Mental Illness']].value_counts()\n",
        "bool_columns = bool_columns.to_frame().reset_index()\n",
        "bool_columns"
      ]
    },
    {
      "cell_type": "markdown",
      "metadata": {
        "id": "HzWqf1keN-74"
      },
      "source": [
        "Let's transform these values 1 and 0 into 'Yes' and 'No', and analyze the impact of depression on suicidal thoughts."
      ]
    },
    {
      "cell_type": "code",
      "execution_count": null,
      "metadata": {
        "colab": {
          "base_uri": "https://localhost:8080/",
          "height": 507
        },
        "id": "f-S0DmsOQtTe",
        "outputId": "6b05c6e8-1c42-422c-afb9-e37c0bed32ff"
      },
      "outputs": [],
      "source": [
        "suicidal_depression = equal_df[['Have you ever had suicidal thoughts ?', 'Depression']].value_counts()\n",
        "suicidal_depression = suicidal_depression.to_frame().reset_index()\n",
        "suicidal_depression['Depression'] = suicidal_depression['Depression'].replace({1: 'Yes', 0: 'No'})\n",
        "\n",
        "boll_suicidal_depression = suicidal_depression[(suicidal_depression['Have you ever had suicidal thoughts ?'] == 'Yes') & (suicidal_depression['Depression'] == 'Yes')]\n",
        "boll_no_suicidal_depression = suicidal_depression[(suicidal_depression['Have you ever had suicidal thoughts ?'] == 'No') & (suicidal_depression['Depression'] == 'Yes')]\n",
        "\n",
        "group = boll_suicidal_depression.groupby('Depression')['count'].sum().reset_index()\n",
        "group2 = boll_no_suicidal_depression.groupby('Depression')['count'].sum().reset_index()\n",
        "\n",
        "with_thoughts = group['count'].values[0] if not group.empty else 0\n",
        "without_thoughts = group2['count'].values[0] if not group2.empty else 0\n",
        "\n",
        "data = pd.DataFrame({'Condition': ['Depression + Suicidal Thoughts', 'Depression Only'],'Count': [with_thoughts, without_thoughts]\n",
        "})\n",
        "\n",
        "plt.figure(figsize=(8, 5))\n",
        "plt.bar(data['Condition'], data['Count'], color='green')\n",
        "plt.title(\"Comparison of People with Depression: With vs Without Suicidal Thoughts\")\n",
        "plt.ylabel(\"Number of People\")\n",
        "plt.xlabel(\"Condition\")\n",
        "plt.grid(axis='y', linestyle='--', alpha=0.7)\n",
        "plt.tight_layout()\n",
        "plt.show()"
      ]
    },
    {
      "cell_type": "markdown",
      "metadata": {
        "id": "J1UZunlYeKbb"
      },
      "source": [
        "As we can see in the graph, depression has a huge impact on suicidal thoughts. But what's the impact of a family history of Mmental illness on depression?"
      ]
    },
    {
      "cell_type": "code",
      "execution_count": null,
      "metadata": {
        "colab": {
          "base_uri": "https://localhost:8080/",
          "height": 507
        },
        "id": "4EgrqErDZEUH",
        "outputId": "da4d3dd4-d0bf-402b-e6d3-e2ca35898622"
      },
      "outputs": [],
      "source": [
        "family_mental = equal_df[['Family History of Mental Illness', 'Depression']].value_counts()\n",
        "family_mental = family_mental.to_frame().reset_index()\n",
        "family_mental['Depression'] = family_mental['Depression'].replace({1: 'Yes', 0: 'No'})\n",
        "\n",
        "boll_family_mental = family_mental[(family_mental['Family History of Mental Illness'] == 'Yes') & (family_mental['Depression'] == 'Yes')]\n",
        "boll_no_family_mental = family_mental[(family_mental['Family History of Mental Illness'] == 'No') & (family_mental['Depression'] == 'Yes')]\n",
        "\n",
        "group3 = boll_family_mental.groupby('Depression')['count'].sum().reset_index()\n",
        "group4 = boll_no_family_mental.groupby('Depression')['count'].sum().reset_index()\n",
        "\n",
        "with_thoughts2 = group3['count'].values[0] if not group.empty else 0\n",
        "without_thoughts2 = group4['count'].values[0] if not group2.empty else 0\n",
        "\n",
        "data = pd.DataFrame({'Condition': ['Depression + Family History of Mental Illness', 'Depression Only'],'Count': [with_thoughts2, without_thoughts2]\n",
        "})\n",
        "\n",
        "plt.figure(figsize=(8, 5))\n",
        "plt.bar(data['Condition'], data['Count'], color='green')\n",
        "plt.title(\"Comparison of People with Depression: With vs Without Family History of Mental Illness\")\n",
        "plt.ylabel(\"Number of People\")\n",
        "plt.xlabel(\"Condition\")\n",
        "plt.grid(axis='y', linestyle='--', alpha=0.7)\n",
        "plt.tight_layout()\n",
        "plt.show()"
      ]
    },
    {
      "cell_type": "markdown",
      "metadata": {
        "id": "IrgnLB4sqUAa"
      },
      "source": [
        "As we can see in the graph, family history of mental illness doesn't have an impact on depression"
      ]
    },
    {
      "cell_type": "markdown",
      "metadata": {
        "id": "41rRuYXVi6TT"
      },
      "source": [
        "  Let's analyze the columns by gender now"
      ]
    },
    {
      "cell_type": "code",
      "execution_count": null,
      "metadata": {
        "colab": {
          "base_uri": "https://localhost:8080/",
          "height": 300
        },
        "id": "ABhxmsCxjQSj",
        "outputId": "55968495-70e9-4262-8aa8-4c8a32174195"
      },
      "outputs": [],
      "source": [
        "gender_bool_columns = equal_df[['Gender','Have you ever had suicidal thoughts ?', 'Depression', 'Family History of Mental Illness']].value_counts()\n",
        "gender_bool_columns = gender_bool_columns.to_frame().reset_index()\n",
        "gender_bool_columns['Depression'] = gender_bool_columns['Depression'].replace({1: 'Yes', 0: 'No'})\n",
        "\n",
        "male_bool_columns = gender_bool_columns[gender_bool_columns['Gender'] == 'Male']\n",
        "female_bool_columns = gender_bool_columns[gender_bool_columns['Gender'] == 'Female']\n",
        "female_bool_columns"
      ]
    },
    {
      "cell_type": "code",
      "execution_count": null,
      "metadata": {
        "colab": {
          "base_uri": "https://localhost:8080/",
          "height": 507
        },
        "id": "ioZqu863n-lS",
        "outputId": "73f2386e-649e-4828-8429-62a26fd5d0fd"
      },
      "outputs": [],
      "source": [
        "new_female_bool_columns = female_bool_columns[['Family History of Mental Illness', 'Depression','count']].value_counts()\n",
        "new_female_bool_columns = new_female_bool_columns.rename(\"counts\").reset_index()\n",
        "\n",
        "female_family_mental = new_female_bool_columns[(new_female_bool_columns['Family History of Mental Illness'] == 'Yes') & (new_female_bool_columns['Depression'] == 'Yes')]\n",
        "female_no_family_mental = new_female_bool_columns[(new_female_bool_columns['Family History of Mental Illness'] == 'No') & (new_female_bool_columns['Depression'] == 'Yes')]\n",
        "\n",
        "group5 = female_family_mental.groupby('Depression')['count'].sum().reset_index()\n",
        "group6 = female_no_family_mental.groupby('Depression')['count'].sum().reset_index()\n",
        "\n",
        "with_family_history = group5['count'].values[0] if not group5.empty else 0\n",
        "without_family_history = group6['count'].values[0] if not group6.empty else 0\n",
        "\n",
        "new1_female_bool_columns = female_bool_columns[['Have you ever had suicidal thoughts ?', 'Depression','count']].value_counts()\n",
        "new1_female_bool_columns = new1_female_bool_columns.rename(\"counts\").reset_index()\n",
        "\n",
        "female_suicidal = new1_female_bool_columns[(new1_female_bool_columns['Have you ever had suicidal thoughts ?'] == 'Yes') & (new1_female_bool_columns['Depression'] == 'Yes')]\n",
        "female_no_suicidal = new1_female_bool_columns[(new1_female_bool_columns['Have you ever had suicidal thoughts ?'] == 'No') & (new1_female_bool_columns['Depression'] == 'Yes')]\n",
        "\n",
        "group7 = female_suicidal.groupby('Depression')['count'].sum().reset_index()\n",
        "group8 = female_no_suicidal.groupby('Depression')['count'].sum().reset_index()\n",
        "\n",
        "with_suicidal_thoughts = group7['count'].values[0] if not group7.empty else 0\n",
        "without_suicidal_thoughts = group8['count'].values[0] if not group8.empty else 0\n",
        "\n",
        "data1 = pd.DataFrame({\n",
        "    'Condition': ['Depression + Suicidal Thoughts', 'Depression Only'],\n",
        "    'Count': [with_suicidal_thoughts, without_suicidal_thoughts]\n",
        "})\n",
        "\n",
        "data2 = pd.DataFrame({\n",
        "    'Condition': ['Depression + Family History', 'Depression Only'],\n",
        "    'Count': [with_family_history, without_family_history]\n",
        "})\n",
        "\n",
        "fig, axes = plt.subplots(1, 2, figsize=(15, 5), sharey=True)\n",
        "\n",
        "axes[0].bar(data1['Condition'], data1['Count'], color='red')\n",
        "axes[0].set_title(\"Female with Depression: Suicidal Thoughts vs None\")\n",
        "axes[0].set_ylabel(\"Number of Females\")\n",
        "axes[0].set_xlabel(\"Condition\")\n",
        "axes[0].grid(axis='y', linestyle='--', alpha=0.7)\n",
        "\n",
        "axes[1].bar(data2['Condition'], data2['Count'], color='red')\n",
        "axes[1].set_title(\"Female with Depression: Family History vs None\")\n",
        "axes[1].set_ylabel(\"Number of Females\")\n",
        "axes[1].set_xlabel(\"Condition\")\n",
        "axes[1].grid(axis='y', linestyle='--', alpha=0.7)\n",
        "\n",
        "plt.tight_layout()\n",
        "plt.show()"
      ]
    },
    {
      "cell_type": "code",
      "execution_count": null,
      "metadata": {
        "colab": {
          "base_uri": "https://localhost:8080/",
          "height": 507
        },
        "id": "QV9ye5Drpc9Y",
        "outputId": "7be0ad65-c9cc-49a7-a6cc-6c19d05cfd2f"
      },
      "outputs": [],
      "source": [
        "new_male_bool_columns = male_bool_columns[['Family History of Mental Illness', 'Depression','count']].value_counts()\n",
        "new_male_bool_columns = new_male_bool_columns.rename(\"counts\").reset_index()\n",
        "\n",
        "male_family_mental = new_male_bool_columns[(new_male_bool_columns['Family History of Mental Illness'] == 'Yes') & (new_male_bool_columns['Depression'] == 'Yes')]\n",
        "male_no_family_mental = new_male_bool_columns[(new_male_bool_columns['Family History of Mental Illness'] == 'No') & (new_male_bool_columns['Depression'] == 'Yes')]\n",
        "\n",
        "group5 = male_family_mental.groupby('Depression')['count'].sum().reset_index()\n",
        "group6 = male_no_family_mental.groupby('Depression')['count'].sum().reset_index()\n",
        "\n",
        "with_family_history = group5['count'].values[0] if not group5.empty else 0\n",
        "without_family_history = group6['count'].values[0] if not group6.empty else 0\n",
        "\n",
        "new1_male_bool_columns = male_bool_columns[['Have you ever had suicidal thoughts ?', 'Depression','count']].value_counts()\n",
        "new1_male_bool_columns = new1_male_bool_columns.rename(\"counts\").reset_index()\n",
        "\n",
        "male_suicidal = new1_male_bool_columns[(new1_male_bool_columns['Have you ever had suicidal thoughts ?'] == 'Yes') & (new1_male_bool_columns['Depression'] == 'Yes')]\n",
        "male_no_suicidal = new1_male_bool_columns[(new1_male_bool_columns['Have you ever had suicidal thoughts ?'] == 'No') & (new1_male_bool_columns['Depression'] == 'Yes')]\n",
        "\n",
        "group7 = male_suicidal.groupby('Depression')['count'].sum().reset_index()\n",
        "group8 = male_no_suicidal.groupby('Depression')['count'].sum().reset_index()\n",
        "\n",
        "with_suicidal_thoughts = group7['count'].values[0] if not group7.empty else 0\n",
        "without_suicidal_thoughts = group8['count'].values[0] if not group8.empty else 0\n",
        "\n",
        "data3 = pd.DataFrame({\n",
        "    'Condition': ['Depression + Suicidal Thoughts', 'Depression Only'],\n",
        "    'Count': [with_suicidal_thoughts, without_suicidal_thoughts]\n",
        "})\n",
        "\n",
        "data4 = pd.DataFrame({\n",
        "    'Condition': ['Depression + Family History', 'Depression Only'],\n",
        "    'Count': [with_family_history, without_family_history]\n",
        "})\n",
        "\n",
        "fig, axes = plt.subplots(1, 2, figsize=(15, 5), sharey=True)\n",
        "\n",
        "axes[0].bar(data3['Condition'], data3['Count'], color='blue')\n",
        "axes[0].set_title(\"Male with Depression: Suicidal Thoughts vs None\")\n",
        "axes[0].set_ylabel(\"Number of Males\")\n",
        "axes[0].set_xlabel(\"Condition\")\n",
        "axes[0].grid(axis='y', linestyle='--', alpha=0.7)\n",
        "\n",
        "axes[1].bar(data4['Condition'], data4['Count'], color='blue')\n",
        "axes[1].set_title(\"Male with Depression: Family History vs None\")\n",
        "axes[1].set_ylabel(\"Number of Males\")\n",
        "axes[1].set_xlabel(\"Condition\")\n",
        "axes[1].grid(axis='y', linestyle='--', alpha=0.7)\n",
        "\n",
        "plt.tight_layout()\n",
        "plt.show()\n"
      ]
    },
    {
      "cell_type": "markdown",
      "metadata": {
        "id": "R4ZTmkLip1nf"
      },
      "source": [
        "The graphs have followed the same pattern. Depression has a huge impact on suicidal thoughts, but family history of mental illness doesn't seem to have an impact on depression. The final conclusion is that women and men show a very similar pattern in terms of most behaviors. Everyone’s dealing with the same kind of pressure."
      ]
    }
  ],
  "metadata": {
    "colab": {
      "collapsed_sections": [
        "9OMRM9q37uiW",
        "GeaKWU7U72I8",
        "HW0rdTFbbtax",
        "VgqL_ogh1CS8",
        "G1mxnvZqaOB2",
        "YiTRF27CYvnE"
      ],
      "provenance": []
    },
    "kernelspec": {
      "display_name": "Python 3",
      "name": "python3"
    },
    "language_info": {
      "codemirror_mode": {
        "name": "ipython",
        "version": 3
      },
      "file_extension": ".py",
      "mimetype": "text/x-python",
      "name": "python",
      "nbconvert_exporter": "python",
      "pygments_lexer": "ipython3",
      "version": "3.12.1"
    }
  },
  "nbformat": 4,
  "nbformat_minor": 0
}
